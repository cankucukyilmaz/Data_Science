{
 "cells": [
  {
   "cell_type": "markdown",
   "metadata": {},
   "source": [
    "# Base Algorithms Performances"
   ]
  },
  {
   "cell_type": "markdown",
   "metadata": {},
   "source": [
    "## Libraries"
   ]
  },
  {
   "cell_type": "code",
   "execution_count": null,
   "metadata": {},
   "outputs": [],
   "source": [
    "import time\n",
    "import os\n",
    "os.chdir(\"../input\")\n",
    "\n",
    "import numpy as np\n",
    "import pandas as pd\n",
    "\n",
    "from sklearn.model_selection import cross_val_predict\n",
    "from sklearn.metrics import accuracy_score, precision_score, recall_score, f1_score, roc_auc_score, average_precision_score\n",
    "from sklearn.ensemble import GradientBoostingClassifier, AdaBoostClassifier\n",
    "import xgboost as xgb\n",
    "import lightgbm as lgb\n",
    "from catboost import CatBoostClassifier\n",
    "from sklearn.ensemble import RandomForestClassifier\n",
    "from sklearn.svm import SVC\n",
    "from sklearn.neighbors import KNeighborsClassifier"
   ]
  },
  {
   "cell_type": "markdown",
   "metadata": {},
   "source": [
    "## Helper Functions"
   ]
  },
  {
   "cell_type": "code",
   "execution_count": 8,
   "metadata": {},
   "outputs": [],
   "source": [
    "def train_and_evaluate_classifier(clf, X, y, cv=5):\n",
    "    start = time.time()\n",
    "    \n",
    "    y_pred = cross_val_predict(clf, X, y, cv=cv)\n",
    "\n",
    "    if hasattr(clf, \"predict_proba\"):\n",
    "        y_proba = cross_val_predict(clf, X, y, cv=cv, method=\"predict_proba\")[:, 1]\n",
    "    else:\n",
    "        y_proba = None\n",
    "\n",
    "    end = time.time()\n",
    "    elapsed_time = end - start\n",
    "\n",
    "    metrics = {\n",
    "        'Accuracy': accuracy_score(y, y_pred),\n",
    "        'Precision': precision_score(y, y_pred, zero_division=0),\n",
    "        'Recall': recall_score(y, y_pred, zero_division=0),\n",
    "        'F1-Score': f1_score(y, y_pred, zero_division=0),\n",
    "        'AUC-ROC': roc_auc_score(y, y_proba) if y_proba is not None else None,\n",
    "        'AUC-PR': average_precision_score(y, y_proba) if y_proba is not None else None,\n",
    "        'Training Time (s)': elapsed_time\n",
    "    }\n",
    "\n",
    "    return metrics"
   ]
  },
  {
   "cell_type": "markdown",
   "metadata": {},
   "source": [
    "## Data Reading & Preprocessing"
   ]
  },
  {
   "cell_type": "code",
   "execution_count": 2,
   "metadata": {},
   "outputs": [],
   "source": [
    "df = pd.read_csv(\"heart.csv\")"
   ]
  },
  {
   "cell_type": "code",
   "execution_count": null,
   "metadata": {},
   "outputs": [],
   "source": [
    "X = df.drop(\"output\", axis=1)\n",
    "y = df[\"output\"]"
   ]
  }
 ],
 "metadata": {
  "kernelspec": {
   "display_name": "Python (venv)",
   "language": "python",
   "name": "venv"
  },
  "language_info": {
   "codemirror_mode": {
    "name": "ipython",
    "version": 3
   },
   "file_extension": ".py",
   "mimetype": "text/x-python",
   "name": "python",
   "nbconvert_exporter": "python",
   "pygments_lexer": "ipython3",
   "version": "3.12.2"
  }
 },
 "nbformat": 4,
 "nbformat_minor": 2
}
