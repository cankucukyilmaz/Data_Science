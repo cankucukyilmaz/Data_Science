{
 "cells": [
  {
   "cell_type": "markdown",
   "metadata": {},
   "source": [
    "# CatBoost HyperParameter Tuning"
   ]
  },
  {
   "cell_type": "markdown",
   "metadata": {},
   "source": [
    "## Libraries"
   ]
  },
  {
   "cell_type": "code",
   "execution_count": 4,
   "metadata": {},
   "outputs": [],
   "source": [
    "import os\n",
    "os.chdir(\"../input\")\n",
    "\n",
    "import numpy as np\n",
    "import pandas as pd\n",
    "import optuna\n",
    "\n",
    "from sklearn.model_selection import StratifiedKFold, cross_val_score\n",
    "from sklearn.metrics import roc_auc_score, accuracy_score\n",
    "from catboost import CatBoostClassifier, Pool"
   ]
  },
  {
   "cell_type": "markdown",
   "metadata": {},
   "source": [
    "## Helper Functions"
   ]
  },
  {
   "cell_type": "code",
   "execution_count": 5,
   "metadata": {},
   "outputs": [],
   "source": [
    "def objective(trial):\n",
    "    params = {\n",
    "        \"iterations\": trial.suggest_int(\"iterations\", 100, 1000),\n",
    "        \"depth\": trial.suggest_int(\"depth\", 4, 10),\n",
    "        \"learning_rate\": trial.suggest_float(\"learning_rate\", 1e-3, 0.3, log=True),\n",
    "        \"l2_leaf_reg\": trial.suggest_float(\"l2_leaf_reg\", 1e-3, 10, log=True),\n",
    "        \"border_count\": trial.suggest_int(\"border_count\", 32, 255),\n",
    "        \"bagging_temperature\": trial.suggest_float(\"bagging_temperature\", 0.0, 1.0),\n",
    "        \"random_strength\": trial.suggest_float(\"random_strength\", 1e-3, 10, log=True),\n",
    "        \"verbose\": 0,\n",
    "    }\n",
    "\n",
    "    skf = StratifiedKFold(n_splits=5, shuffle=True, random_state=42)\n",
    "\n",
    "    scores = []\n",
    "    for train_idx, valid_idx in skf.split(X, y):\n",
    "        X_train, X_valid = X.iloc[train_idx], X.iloc[valid_idx]\n",
    "        y_train, y_valid = y.iloc[train_idx], y.iloc[valid_idx]\n",
    "\n",
    "        train_pool = Pool(X_train, y_train)\n",
    "        valid_pool = Pool(X_valid, y_valid)\n",
    "\n",
    "        model = CatBoostClassifier(**params)\n",
    "        model.fit(train_pool, eval_set=valid_pool, early_stopping_rounds=50, verbose=0)\n",
    "\n",
    "        y_pred = model.predict(X_valid)\n",
    "        scores.append(accuracy_score(y_valid, y_pred))\n",
    "\n",
    "    return sum(scores) / len(scores)"
   ]
  },
  {
   "cell_type": "markdown",
   "metadata": {},
   "source": [
    "## Reading & Preparing Data"
   ]
  },
  {
   "cell_type": "code",
   "execution_count": 8,
   "metadata": {},
   "outputs": [],
   "source": [
    "df = pd.read_csv(\"transformed_heart.csv\")"
   ]
  },
  {
   "cell_type": "code",
   "execution_count": 9,
   "metadata": {},
   "outputs": [],
   "source": [
    "X = df.drop(\"output\", axis=1)\n",
    "y = df[\"output\"]"
   ]
  },
  {
   "cell_type": "markdown",
   "metadata": {},
   "source": [
    "## Hyperparameter Tuning"
   ]
  },
  {
   "cell_type": "code",
   "execution_count": 10,
   "metadata": {},
   "outputs": [
    {
     "name": "stderr",
     "output_type": "stream",
     "text": [
      "[I 2024-12-06 15:57:38,538] A new study created in memory with name: no-name-7351c396-e5d5-4902-82dd-f507342b10d3\n"
     ]
    },
    {
     "name": "stderr",
     "output_type": "stream",
     "text": [
      "[I 2024-12-06 15:57:38,813] Trial 0 finished with value: 0.801967213114754 and parameters: {'iterations': 709, 'depth': 6, 'learning_rate': 0.22851697946497362, 'l2_leaf_reg': 0.07330450826392484, 'border_count': 212, 'bagging_temperature': 0.09850161673891267, 'random_strength': 0.0027769701255086613}. Best is trial 0 with value: 0.801967213114754.\n",
      "[I 2024-12-06 15:57:39,345] Trial 1 finished with value: 0.8348087431693989 and parameters: {'iterations': 260, 'depth': 4, 'learning_rate': 0.0035178157792476153, 'l2_leaf_reg': 0.017744795178910915, 'border_count': 216, 'bagging_temperature': 0.22365732362209578, 'random_strength': 0.8069595924580716}. Best is trial 1 with value: 0.8348087431693989.\n",
      "[I 2024-12-06 15:57:40,618] Trial 2 finished with value: 0.8051366120218579 and parameters: {'iterations': 381, 'depth': 7, 'learning_rate': 0.0029969349134170774, 'l2_leaf_reg': 2.792847320958256, 'border_count': 227, 'bagging_temperature': 0.37734276156055035, 'random_strength': 0.2336872887345744}. Best is trial 1 with value: 0.8348087431693989.\n",
      "[I 2024-12-06 15:57:43,182] Trial 3 finished with value: 0.7985792349726776 and parameters: {'iterations': 705, 'depth': 8, 'learning_rate': 0.004499803589620086, 'l2_leaf_reg': 9.365305060807646, 'border_count': 43, 'bagging_temperature': 0.4635154981053947, 'random_strength': 0.006917153638430173}. Best is trial 1 with value: 0.8348087431693989.\n",
      "[I 2024-12-06 15:57:43,650] Trial 4 finished with value: 0.8152459016393443 and parameters: {'iterations': 237, 'depth': 6, 'learning_rate': 0.03748013588869751, 'l2_leaf_reg': 6.4876550676732885, 'border_count': 108, 'bagging_temperature': 0.8431616808093378, 'random_strength': 0.06105812922381544}. Best is trial 1 with value: 0.8348087431693989.\n",
      "[I 2024-12-06 15:57:44,492] Trial 5 finished with value: 0.8117486338797815 and parameters: {'iterations': 815, 'depth': 8, 'learning_rate': 0.005237939097498634, 'l2_leaf_reg': 0.018600465487535064, 'border_count': 75, 'bagging_temperature': 0.8909321932600558, 'random_strength': 0.3936795917244716}. Best is trial 1 with value: 0.8348087431693989.\n",
      "[I 2024-12-06 15:57:44,691] Trial 6 finished with value: 0.8151366120218579 and parameters: {'iterations': 732, 'depth': 7, 'learning_rate': 0.1870712128106231, 'l2_leaf_reg': 0.07980915225982373, 'border_count': 209, 'bagging_temperature': 0.708887847726038, 'random_strength': 1.3282457974485735}. Best is trial 1 with value: 0.8348087431693989.\n",
      "[I 2024-12-06 15:57:46,020] Trial 7 finished with value: 0.8249726775956283 and parameters: {'iterations': 521, 'depth': 8, 'learning_rate': 0.014738116249728246, 'l2_leaf_reg': 2.3656790797270975, 'border_count': 138, 'bagging_temperature': 0.864516868474721, 'random_strength': 2.6261337333704184}. Best is trial 1 with value: 0.8348087431693989.\n",
      "[I 2024-12-06 15:57:46,584] Trial 8 finished with value: 0.8150819672131148 and parameters: {'iterations': 236, 'depth': 5, 'learning_rate': 0.014399075816975221, 'l2_leaf_reg': 3.505051003789751, 'border_count': 59, 'bagging_temperature': 0.7910752631616174, 'random_strength': 0.6765383497761378}. Best is trial 1 with value: 0.8348087431693989.\n",
      "[I 2024-12-06 15:57:48,274] Trial 9 finished with value: 0.8249726775956283 and parameters: {'iterations': 441, 'depth': 9, 'learning_rate': 0.005265517282144507, 'l2_leaf_reg': 0.010325110721215811, 'border_count': 149, 'bagging_temperature': 0.3192738600064562, 'random_strength': 1.9663737281811717}. Best is trial 1 with value: 0.8348087431693989.\n",
      "[I 2024-12-06 15:57:48,413] Trial 10 finished with value: 0.8381420765027322 and parameters: {'iterations': 109, 'depth': 4, 'learning_rate': 0.0013378985425727137, 'l2_leaf_reg': 0.0012777316129056978, 'border_count': 252, 'bagging_temperature': 0.05283505077876438, 'random_strength': 7.750409918495649}. Best is trial 10 with value: 0.8381420765027322.\n",
      "[I 2024-12-06 15:57:48,548] Trial 11 finished with value: 0.8414207650273223 and parameters: {'iterations': 111, 'depth': 4, 'learning_rate': 0.0010033743085888789, 'l2_leaf_reg': 0.002184014483637335, 'border_count': 240, 'bagging_temperature': 0.003387581037682913, 'random_strength': 9.604768394288557}. Best is trial 11 with value: 0.8414207650273223.\n",
      "[I 2024-12-06 15:57:48,714] Trial 12 finished with value: 0.8414754098360655 and parameters: {'iterations': 134, 'depth': 4, 'learning_rate': 0.0010060271163249185, 'l2_leaf_reg': 0.0010330280127145324, 'border_count': 254, 'bagging_temperature': 0.010305191816770297, 'random_strength': 7.707355643797671}. Best is trial 12 with value: 0.8414754098360655.\n",
      "[I 2024-12-06 15:57:48,874] Trial 13 finished with value: 0.8414754098360655 and parameters: {'iterations': 104, 'depth': 5, 'learning_rate': 0.0012505641337416348, 'l2_leaf_reg': 0.0010760143601151403, 'border_count': 254, 'bagging_temperature': 0.16962656743166538, 'random_strength': 8.922634029455558}. Best is trial 12 with value: 0.8414754098360655.\n",
      "[I 2024-12-06 15:57:49,693] Trial 14 finished with value: 0.8151366120218579 and parameters: {'iterations': 341, 'depth': 5, 'learning_rate': 0.001646829424881208, 'l2_leaf_reg': 0.003612992768083639, 'border_count': 187, 'bagging_temperature': 0.20027394582517272, 'random_strength': 0.027178632316179105}. Best is trial 12 with value: 0.8414754098360655.\n",
      "[I 2024-12-06 15:57:49,853] Trial 15 finished with value: 0.8481420765027323 and parameters: {'iterations': 100, 'depth': 5, 'learning_rate': 0.04909179269931453, 'l2_leaf_reg': 0.42232360793453216, 'border_count': 176, 'bagging_temperature': 0.5859087045795495, 'random_strength': 4.113832324999144}. Best is trial 15 with value: 0.8481420765027323.\n",
      "[I 2024-12-06 15:57:50,159] Trial 16 finished with value: 0.8282513661202187 and parameters: {'iterations': 576, 'depth': 6, 'learning_rate': 0.06305034945958929, 'l2_leaf_reg': 0.4531828445543647, 'border_count': 163, 'bagging_temperature': 0.5961764299994898, 'random_strength': 3.3259897241164444}. Best is trial 15 with value: 0.8481420765027323.\n",
      "[I 2024-12-06 15:57:50,366] Trial 17 finished with value: 0.8051912568306012 and parameters: {'iterations': 993, 'depth': 5, 'learning_rate': 0.08650659297827126, 'l2_leaf_reg': 0.12660786124570744, 'border_count': 189, 'bagging_temperature': 0.6156195843532829, 'random_strength': 0.24286690997439928}. Best is trial 15 with value: 0.8481420765027323.\n",
      "[I 2024-12-06 15:57:51,854] Trial 18 finished with value: 0.7687431693989071 and parameters: {'iterations': 213, 'depth': 10, 'learning_rate': 0.029096669258788104, 'l2_leaf_reg': 0.600901324540003, 'border_count': 108, 'bagging_temperature': 0.9846924148347835, 'random_strength': 0.04988545882512553}. Best is trial 15 with value: 0.8481420765027323.\n",
      "[I 2024-12-06 15:57:52,487] Trial 19 finished with value: 0.8481420765027323 and parameters: {'iterations': 322, 'depth': 4, 'learning_rate': 0.009584649424121051, 'l2_leaf_reg': 0.5311622202938598, 'border_count': 183, 'bagging_temperature': 0.5150137073874272, 'random_strength': 3.4495896342601777}. Best is trial 15 with value: 0.8481420765027323.\n",
      "[I 2024-12-06 15:57:53,105] Trial 20 finished with value: 0.8019125683060109 and parameters: {'iterations': 324, 'depth': 6, 'learning_rate': 0.009990545306344025, 'l2_leaf_reg': 0.6412975185713251, 'border_count': 178, 'bagging_temperature': 0.515124542557522, 'random_strength': 0.13141420353279631}. Best is trial 15 with value: 0.8481420765027323.\n",
      "[I 2024-12-06 15:57:53,324] Trial 21 finished with value: 0.8546994535519126 and parameters: {'iterations': 187, 'depth': 4, 'learning_rate': 0.030456950338761384, 'l2_leaf_reg': 0.1989331955350976, 'border_count': 129, 'bagging_temperature': 0.39241818450147603, 'random_strength': 3.8650806677450635}. Best is trial 21 with value: 0.8546994535519126.\n",
      "[I 2024-12-06 15:57:53,543] Trial 22 finished with value: 0.8416393442622951 and parameters: {'iterations': 189, 'depth': 4, 'learning_rate': 0.027932804051808452, 'l2_leaf_reg': 0.14509367380573546, 'border_count': 132, 'bagging_temperature': 0.431161085714482, 'random_strength': 3.1125262393443687}. Best is trial 21 with value: 0.8546994535519126.\n",
      "[I 2024-12-06 15:57:53,796] Trial 23 finished with value: 0.8383060109289617 and parameters: {'iterations': 433, 'depth': 5, 'learning_rate': 0.08350449281024952, 'l2_leaf_reg': 0.2580713107847371, 'border_count': 120, 'bagging_temperature': 0.5739154279363367, 'random_strength': 1.347304400347961}. Best is trial 21 with value: 0.8546994535519126.\n",
      "[I 2024-12-06 15:57:54,374] Trial 24 finished with value: 0.848032786885246 and parameters: {'iterations': 292, 'depth': 4, 'learning_rate': 0.00926217639784534, 'l2_leaf_reg': 1.3529248160180674, 'border_count': 168, 'bagging_temperature': 0.6935580234000821, 'random_strength': 3.9755226175372176}. Best is trial 21 with value: 0.8546994535519126.\n",
      "[I 2024-12-06 15:57:54,615] Trial 25 finished with value: 0.8085245901639345 and parameters: {'iterations': 182, 'depth': 5, 'learning_rate': 0.04191982587545188, 'l2_leaf_reg': 0.05188020815190549, 'border_count': 152, 'bagging_temperature': 0.33114030079205126, 'random_strength': 0.6744915290311212}. Best is trial 21 with value: 0.8546994535519126.\n",
      "[I 2024-12-06 15:57:55,034] Trial 26 finished with value: 0.8184699453551912 and parameters: {'iterations': 407, 'depth': 4, 'learning_rate': 0.021484432322370486, 'l2_leaf_reg': 0.29124833902809366, 'border_count': 90, 'bagging_temperature': 0.5203782128175763, 'random_strength': 0.0010628441700770773}. Best is trial 21 with value: 0.8546994535519126.\n",
      "[I 2024-12-06 15:57:55,245] Trial 27 finished with value: 0.8481420765027323 and parameters: {'iterations': 567, 'depth': 5, 'learning_rate': 0.1426695548064229, 'l2_leaf_reg': 1.1749737805886389, 'border_count': 191, 'bagging_temperature': 0.6648078187557527, 'random_strength': 4.803531269298172}. Best is trial 21 with value: 0.8546994535519126.\n",
      "[I 2024-12-06 15:57:55,867] Trial 28 finished with value: 0.8249726775956285 and parameters: {'iterations': 492, 'depth': 6, 'learning_rate': 0.009191714261032201, 'l2_leaf_reg': 0.03958439110162702, 'border_count': 161, 'bagging_temperature': 0.3963471371285582, 'random_strength': 1.0643473354022936}. Best is trial 21 with value: 0.8546994535519126.\n",
      "[I 2024-12-06 15:57:55,998] Trial 29 finished with value: 0.8150273224043716 and parameters: {'iterations': 166, 'depth': 6, 'learning_rate': 0.2678020320108772, 'l2_leaf_reg': 0.16722353138322849, 'border_count': 208, 'bagging_temperature': 0.2778696091259029, 'random_strength': 0.008247016748122274}. Best is trial 21 with value: 0.8546994535519126.\n",
      "[I 2024-12-06 15:57:56,224] Trial 30 finished with value: 0.8283606557377048 and parameters: {'iterations': 303, 'depth': 4, 'learning_rate': 0.06084151010288445, 'l2_leaf_reg': 1.112645656174954, 'border_count': 124, 'bagging_temperature': 0.5152598228050582, 'random_strength': 0.3919705364059277}. Best is trial 21 with value: 0.8546994535519126.\n",
      "[I 2024-12-06 15:57:56,460] Trial 31 finished with value: 0.8350819672131147 and parameters: {'iterations': 554, 'depth': 5, 'learning_rate': 0.1622217949740477, 'l2_leaf_reg': 1.0739402511113847, 'border_count': 195, 'bagging_temperature': 0.6830042439658481, 'random_strength': 4.916173133966349}. Best is trial 21 with value: 0.8546994535519126.\n",
      "[I 2024-12-06 15:57:56,649] Trial 32 finished with value: 0.825136612021858 and parameters: {'iterations': 621, 'depth': 5, 'learning_rate': 0.1410844698879193, 'l2_leaf_reg': 0.31599597416275993, 'border_count': 176, 'bagging_temperature': 0.6311475871216717, 'random_strength': 1.8995383207619083}. Best is trial 21 with value: 0.8546994535519126.\n",
      "[I 2024-12-06 15:57:57,036] Trial 33 finished with value: 0.8514754098360655 and parameters: {'iterations': 640, 'depth': 4, 'learning_rate': 0.044635775412493105, 'l2_leaf_reg': 1.7012682878844299, 'border_count': 221, 'bagging_temperature': 0.46413591754474626, 'random_strength': 4.825382933686791}. Best is trial 21 with value: 0.8546994535519126.\n",
      "[I 2024-12-06 15:57:57,398] Trial 34 finished with value: 0.8513661202185793 and parameters: {'iterations': 652, 'depth': 4, 'learning_rate': 0.04894327167447015, 'l2_leaf_reg': 2.028639417122638, 'border_count': 227, 'bagging_temperature': 0.4636040295186459, 'random_strength': 5.228962752023491}. Best is trial 21 with value: 0.8546994535519126.\n",
      "[I 2024-12-06 15:57:57,773] Trial 35 finished with value: 0.8482513661202186 and parameters: {'iterations': 665, 'depth': 4, 'learning_rate': 0.049747725458998755, 'l2_leaf_reg': 5.250078798263194, 'border_count': 226, 'bagging_temperature': 0.43635644382521055, 'random_strength': 5.450255255444824}. Best is trial 21 with value: 0.8546994535519126.\n",
      "[I 2024-12-06 15:57:57,976] Trial 36 finished with value: 0.8415846994535519 and parameters: {'iterations': 674, 'depth': 4, 'learning_rate': 0.10140800169791502, 'l2_leaf_reg': 5.973172433445765, 'border_count': 226, 'bagging_temperature': 0.42920728290403115, 'random_strength': 1.9565025771520588}. Best is trial 21 with value: 0.8546994535519126.\n",
      "[I 2024-12-06 15:57:58,516] Trial 37 finished with value: 0.8415846994535519 and parameters: {'iterations': 798, 'depth': 4, 'learning_rate': 0.03176134635409926, 'l2_leaf_reg': 9.632762381975242, 'border_count': 233, 'bagging_temperature': 0.26051067376406156, 'random_strength': 6.220072947660541}. Best is trial 21 with value: 0.8546994535519126.\n",
      "[I 2024-12-06 15:57:59,277] Trial 38 finished with value: 0.8118032786885246 and parameters: {'iterations': 643, 'depth': 7, 'learning_rate': 0.01879937177799006, 'l2_leaf_reg': 3.340392037505749, 'border_count': 215, 'bagging_temperature': 0.3887740224783969, 'random_strength': 0.461176301221476}. Best is trial 21 with value: 0.8546994535519126.\n",
      "[I 2024-12-06 15:57:59,532] Trial 39 finished with value: 0.8283606557377048 and parameters: {'iterations': 780, 'depth': 4, 'learning_rate': 0.05950046704773172, 'l2_leaf_reg': 1.8061175483930045, 'border_count': 223, 'bagging_temperature': 0.46197854744243905, 'random_strength': 1.434603446295081}. Best is trial 21 with value: 0.8546994535519126.\n",
      "[I 2024-12-06 15:58:00,396] Trial 40 finished with value: 0.8415846994535519 and parameters: {'iterations': 731, 'depth': 7, 'learning_rate': 0.023574604012850938, 'l2_leaf_reg': 4.9474254869371315, 'border_count': 201, 'bagging_temperature': 0.34782688054231725, 'random_strength': 2.2959363065417357}. Best is trial 21 with value: 0.8546994535519126.\n",
      "[I 2024-12-06 15:58:00,746] Trial 41 finished with value: 0.8448087431693988 and parameters: {'iterations': 896, 'depth': 4, 'learning_rate': 0.048667499054109435, 'l2_leaf_reg': 1.9828370753487523, 'border_count': 234, 'bagging_temperature': 0.5775927596351368, 'random_strength': 4.323838886471596}. Best is trial 21 with value: 0.8546994535519126.\n",
      "[I 2024-12-06 15:58:01,104] Trial 42 finished with value: 0.8250819672131147 and parameters: {'iterations': 613, 'depth': 4, 'learning_rate': 0.040238933668680706, 'l2_leaf_reg': 3.1469675180834566, 'border_count': 240, 'bagging_temperature': 0.45790148318020346, 'random_strength': 1.0214237072147765}. Best is trial 21 with value: 0.8546994535519126.\n",
      "[I 2024-12-06 15:58:01,370] Trial 43 finished with value: 0.8416939890710383 and parameters: {'iterations': 708, 'depth': 5, 'learning_rate': 0.11130268884010218, 'l2_leaf_reg': 0.8071254704223, 'border_count': 204, 'bagging_temperature': 0.558537470442193, 'random_strength': 9.833881046341675}. Best is trial 21 with value: 0.8546994535519126.\n",
      "[I 2024-12-06 15:58:02,264] Trial 44 finished with value: 0.8514207650273224 and parameters: {'iterations': 496, 'depth': 4, 'learning_rate': 0.015274408865069321, 'l2_leaf_reg': 4.500334908372533, 'border_count': 216, 'bagging_temperature': 0.7685019158648774, 'random_strength': 5.307918338393114}. Best is trial 21 with value: 0.8546994535519126.\n",
      "[I 2024-12-06 15:58:03,155] Trial 45 finished with value: 0.858087431693989 and parameters: {'iterations': 482, 'depth': 4, 'learning_rate': 0.014880969021004536, 'l2_leaf_reg': 4.9728563420610765, 'border_count': 217, 'bagging_temperature': 0.12860976771413413, 'random_strength': 5.725995540739635}. Best is trial 45 with value: 0.858087431693989.\n",
      "[I 2024-12-06 15:58:04,883] Trial 46 finished with value: 0.8383060109289617 and parameters: {'iterations': 487, 'depth': 9, 'learning_rate': 0.015650443143847174, 'l2_leaf_reg': 8.89707497512375, 'border_count': 33, 'bagging_temperature': 0.1323393629199433, 'random_strength': 6.540229474788353}. Best is trial 45 with value: 0.858087431693989.\n",
      "[I 2024-12-06 15:58:05,727] Trial 47 finished with value: 0.8481420765027323 and parameters: {'iterations': 508, 'depth': 4, 'learning_rate': 0.012208452638672368, 'l2_leaf_reg': 4.231465838834427, 'border_count': 242, 'bagging_temperature': 0.8033994052068234, 'random_strength': 2.4670367317557}. Best is trial 45 with value: 0.858087431693989.\n",
      "[I 2024-12-06 15:58:06,496] Trial 48 finished with value: 0.8051912568306012 and parameters: {'iterations': 373, 'depth': 5, 'learning_rate': 0.007372840688374154, 'l2_leaf_reg': 2.4221516860985037, 'border_count': 215, 'bagging_temperature': 0.9228878453713925, 'random_strength': 0.014431370087507469}. Best is trial 45 with value: 0.858087431693989.\n",
      "[I 2024-12-06 15:58:07,379] Trial 49 finished with value: 0.8282513661202187 and parameters: {'iterations': 454, 'depth': 4, 'learning_rate': 0.0033157850850294756, 'l2_leaf_reg': 0.02270148504642287, 'border_count': 91, 'bagging_temperature': 0.7657542893228981, 'random_strength': 0.7381668306075699}. Best is trial 45 with value: 0.858087431693989.\n",
      "[I 2024-12-06 15:58:08,407] Trial 50 finished with value: 0.8349726775956284 and parameters: {'iterations': 603, 'depth': 8, 'learning_rate': 0.02241669905580747, 'l2_leaf_reg': 1.5727322579485161, 'border_count': 218, 'bagging_temperature': 0.08092732833583025, 'random_strength': 6.738352420255032}. Best is trial 45 with value: 0.858087431693989.\n",
      "[I 2024-12-06 15:58:08,910] Trial 51 finished with value: 0.8449180327868853 and parameters: {'iterations': 669, 'depth': 4, 'learning_rate': 0.032686275864134404, 'l2_leaf_reg': 6.799890672015786, 'border_count': 245, 'bagging_temperature': 0.26618178200786474, 'random_strength': 5.55393008489004}. Best is trial 45 with value: 0.858087431693989.\n",
      "[I 2024-12-06 15:58:09,818] Trial 52 finished with value: 0.844863387978142 and parameters: {'iterations': 756, 'depth': 4, 'learning_rate': 0.013202116225368756, 'l2_leaf_reg': 4.435148633395576, 'border_count': 227, 'bagging_temperature': 0.36740802916999205, 'random_strength': 2.6766569663741047}. Best is trial 45 with value: 0.858087431693989.\n",
      "[I 2024-12-06 15:58:10,882] Trial 53 finished with value: 0.8513661202185793 and parameters: {'iterations': 527, 'depth': 4, 'learning_rate': 0.00597277997714707, 'l2_leaf_reg': 2.6185840111558774, 'border_count': 198, 'bagging_temperature': 0.29827668797971174, 'random_strength': 8.441725370884754}. Best is trial 45 with value: 0.858087431693989.\n",
      "[I 2024-12-06 15:58:12,173] Trial 54 finished with value: 0.8447540983606558 and parameters: {'iterations': 547, 'depth': 5, 'learning_rate': 0.002503173551257239, 'l2_leaf_reg': 3.172657695856963, 'border_count': 199, 'bagging_temperature': 0.2014359885735655, 'random_strength': 9.47068966356442}. Best is trial 45 with value: 0.858087431693989.\n",
      "[I 2024-12-06 15:58:13,192] Trial 55 finished with value: 0.8481420765027323 and parameters: {'iterations': 535, 'depth': 4, 'learning_rate': 0.00588423476484996, 'l2_leaf_reg': 2.38055173283249, 'border_count': 210, 'bagging_temperature': 0.29845323553049796, 'random_strength': 1.701443569184186}. Best is trial 45 with value: 0.858087431693989.\n",
      "[I 2024-12-06 15:58:15,060] Trial 56 finished with value: 0.8480874316939891 and parameters: {'iterations': 842, 'depth': 5, 'learning_rate': 0.0024016128928879385, 'l2_leaf_reg': 0.7260370466306171, 'border_count': 141, 'bagging_temperature': 0.16034957896462515, 'random_strength': 3.4144274457985344}. Best is trial 45 with value: 0.858087431693989.\n",
      "[I 2024-12-06 15:58:15,984] Trial 57 finished with value: 0.8546448087431694 and parameters: {'iterations': 455, 'depth': 4, 'learning_rate': 0.007193614274548596, 'l2_leaf_reg': 7.016783890615576, 'border_count': 154, 'bagging_temperature': 0.2303697834417841, 'random_strength': 7.234447433222048}. Best is trial 45 with value: 0.858087431693989.\n",
      "[I 2024-12-06 15:58:16,720] Trial 58 finished with value: 0.8085245901639345 and parameters: {'iterations': 362, 'depth': 4, 'learning_rate': 0.003970564728762407, 'l2_leaf_reg': 9.732489503401396, 'border_count': 103, 'bagging_temperature': 0.10226269260861842, 'random_strength': 0.08947217205120458}. Best is trial 45 with value: 0.858087431693989.\n",
      "[I 2024-12-06 15:58:17,264] Trial 59 finished with value: 0.8382513661202186 and parameters: {'iterations': 430, 'depth': 5, 'learning_rate': 0.01786977031156308, 'l2_leaf_reg': 0.007976853372882634, 'border_count': 150, 'bagging_temperature': 0.045615211593783705, 'random_strength': 2.972151004548222}. Best is trial 45 with value: 0.858087431693989.\n",
      "[I 2024-12-06 15:58:18,316] Trial 60 finished with value: 0.844863387978142 and parameters: {'iterations': 579, 'depth': 4, 'learning_rate': 0.011624831811325488, 'l2_leaf_reg': 3.8657768008007998, 'border_count': 71, 'bagging_temperature': 0.21912428937997763, 'random_strength': 4.364395563266425}. Best is trial 45 with value: 0.858087431693989.\n",
      "[I 2024-12-06 15:58:19,297] Trial 61 finished with value: 0.8612568306010928 and parameters: {'iterations': 472, 'depth': 4, 'learning_rate': 0.006409405198428425, 'l2_leaf_reg': 6.7228526428636375, 'border_count': 131, 'bagging_temperature': 0.2357796606949334, 'random_strength': 7.60182344411489}. Best is trial 61 with value: 0.8612568306010928.\n",
      "[I 2024-12-06 15:58:20,247] Trial 62 finished with value: 0.848032786885246 and parameters: {'iterations': 472, 'depth': 4, 'learning_rate': 0.007660510320584502, 'l2_leaf_reg': 6.316966041446394, 'border_count': 130, 'bagging_temperature': 0.24186906615723056, 'random_strength': 7.441974381928457}. Best is trial 61 with value: 0.8612568306010928.\n",
      "[I 2024-12-06 15:58:21,188] Trial 63 finished with value: 0.8480874316939891 and parameters: {'iterations': 459, 'depth': 4, 'learning_rate': 0.004838401332261432, 'l2_leaf_reg': 6.905277766705836, 'border_count': 108, 'bagging_temperature': 0.17127866195924873, 'random_strength': 5.905686956829189}. Best is trial 61 with value: 0.8612568306010928.\n",
      "[I 2024-12-06 15:58:21,766] Trial 64 finished with value: 0.844863387978142 and parameters: {'iterations': 587, 'depth': 5, 'learning_rate': 0.02745905961935228, 'l2_leaf_reg': 1.758146053334532, 'border_count': 119, 'bagging_temperature': 0.14166289113239533, 'random_strength': 3.888972538510162}. Best is trial 61 with value: 0.8612568306010928.\n",
      "[I 2024-12-06 15:58:22,512] Trial 65 finished with value: 0.8448087431693988 and parameters: {'iterations': 416, 'depth': 4, 'learning_rate': 0.015825772915257, 'l2_leaf_reg': 0.09485175148129958, 'border_count': 137, 'bagging_temperature': 0.39965028318660534, 'random_strength': 9.838384488822898}. Best is trial 61 with value: 0.8612568306010928.\n",
      "[I 2024-12-06 15:58:24,163] Trial 66 finished with value: 0.8349726775956284 and parameters: {'iterations': 509, 'depth': 10, 'learning_rate': 0.07239389789576996, 'l2_leaf_reg': 7.845960907764021, 'border_count': 155, 'bagging_temperature': 0.47470754863928133, 'random_strength': 2.793819557156433}. Best is trial 61 with value: 0.8612568306010928.\n",
      "[I 2024-12-06 15:58:24,827] Trial 67 finished with value: 0.8513661202185793 and parameters: {'iterations': 265, 'depth': 5, 'learning_rate': 0.0076012027349779705, 'l2_leaf_reg': 5.664043991245035, 'border_count': 115, 'bagging_temperature': 0.5509006656096511, 'random_strength': 5.027371212786039}. Best is trial 61 with value: 0.8612568306010928.\n",
      "[I 2024-12-06 15:58:25,185] Trial 68 finished with value: 0.8449180327868853 and parameters: {'iterations': 407, 'depth': 4, 'learning_rate': 0.03580774432196089, 'l2_leaf_reg': 0.868766330564067, 'border_count': 167, 'bagging_temperature': 0.3333667022114352, 'random_strength': 1.1594525189395042}. Best is trial 61 with value: 0.8612568306010928.\n",
      "[I 2024-12-06 15:58:25,453] Trial 69 finished with value: 0.8085245901639345 and parameters: {'iterations': 642, 'depth': 4, 'learning_rate': 0.04630760883515203, 'l2_leaf_reg': 4.50425865787949, 'border_count': 233, 'bagging_temperature': 0.10396035244990316, 'random_strength': 0.002310679795453532}. Best is trial 61 with value: 0.8612568306010928.\n",
      "[I 2024-12-06 15:58:25,679] Trial 70 finished with value: 0.8448087431693988 and parameters: {'iterations': 144, 'depth': 5, 'learning_rate': 0.025579977727743515, 'l2_leaf_reg': 0.18883281460544524, 'border_count': 183, 'bagging_temperature': 0.7344587296782867, 'random_strength': 7.267711074145678}. Best is trial 61 with value: 0.8612568306010928.\n",
      "[I 2024-12-06 15:58:26,708] Trial 71 finished with value: 0.8480874316939891 and parameters: {'iterations': 526, 'depth': 4, 'learning_rate': 0.006172385605770904, 'l2_leaf_reg': 2.7307397982300983, 'border_count': 129, 'bagging_temperature': 0.36290930267878235, 'random_strength': 8.217439738098895}. Best is trial 61 with value: 0.8612568306010928.\n",
      "[I 2024-12-06 15:58:27,677] Trial 72 finished with value: 0.8481420765027321 and parameters: {'iterations': 474, 'depth': 4, 'learning_rate': 0.0038297435747706447, 'l2_leaf_reg': 2.027512971700603, 'border_count': 207, 'bagging_temperature': 0.299721398178538, 'random_strength': 3.6131352115235007}. Best is trial 61 with value: 0.8612568306010928.\n",
      "[I 2024-12-06 15:58:28,424] Trial 73 finished with value: 0.8547540983606557 and parameters: {'iterations': 390, 'depth': 4, 'learning_rate': 0.01118535261569435, 'l2_leaf_reg': 1.4606584666202076, 'border_count': 221, 'bagging_temperature': 0.22738564360853436, 'random_strength': 5.487702891465573}. Best is trial 61 with value: 0.8612568306010928.\n",
      "[I 2024-12-06 15:58:29,047] Trial 74 finished with value: 0.8349726775956284 and parameters: {'iterations': 403, 'depth': 4, 'learning_rate': 0.020242409826687745, 'l2_leaf_reg': 1.236898103160365, 'border_count': 219, 'bagging_temperature': 0.2003950048373379, 'random_strength': 2.1163461416079983}. Best is trial 61 with value: 0.8612568306010928.\n",
      "[I 2024-12-06 15:58:29,739] Trial 75 finished with value: 0.8415846994535519 and parameters: {'iterations': 348, 'depth': 4, 'learning_rate': 0.010844288112061094, 'l2_leaf_reg': 0.5033118777648301, 'border_count': 248, 'bagging_temperature': 0.24278899308587765, 'random_strength': 5.024442589830096}. Best is trial 61 with value: 0.8612568306010928.\n",
      "[I 2024-12-06 15:58:30,161] Trial 76 finished with value: 0.8481420765027323 and parameters: {'iterations': 213, 'depth': 4, 'learning_rate': 0.013938741305025404, 'l2_leaf_reg': 3.71607594153146, 'border_count': 236, 'bagging_temperature': 0.49576234675154146, 'random_strength': 1.6300711136724233}. Best is trial 61 with value: 0.8612568306010928.\n",
      "[I 2024-12-06 15:58:30,933] Trial 77 finished with value: 0.8480874316939891 and parameters: {'iterations': 381, 'depth': 4, 'learning_rate': 0.008042873786931578, 'l2_leaf_reg': 1.4255981216285667, 'border_count': 221, 'bagging_temperature': 0.17025764427893522, 'random_strength': 6.261247831725999}. Best is trial 61 with value: 0.8612568306010928.\n",
      "[I 2024-12-06 15:58:31,579] Trial 78 finished with value: 0.8481420765027323 and parameters: {'iterations': 276, 'depth': 5, 'learning_rate': 0.00913342503051099, 'l2_leaf_reg': 0.9788552228186468, 'border_count': 143, 'bagging_temperature': 0.4060774453496012, 'random_strength': 3.352405617626638}. Best is trial 61 with value: 0.8612568306010928.\n",
      "[I 2024-12-06 15:58:32,309] Trial 79 finished with value: 0.8449726775956284 and parameters: {'iterations': 493, 'depth': 5, 'learning_rate': 0.017535599679766804, 'l2_leaf_reg': 0.40977747358880734, 'border_count': 98, 'bagging_temperature': 0.04397251921550627, 'random_strength': 4.011821588578301}. Best is trial 61 with value: 0.8612568306010928.\n",
      "[I 2024-12-06 15:58:32,629] Trial 80 finished with value: 0.8580327868852459 and parameters: {'iterations': 438, 'depth': 4, 'learning_rate': 0.0561412980700797, 'l2_leaf_reg': 0.0486760292037344, 'border_count': 254, 'bagging_temperature': 0.6377803530576026, 'random_strength': 7.349092110489795}. Best is trial 61 with value: 0.8612568306010928.\n",
      "[I 2024-12-06 15:58:32,967] Trial 81 finished with value: 0.8349726775956284 and parameters: {'iterations': 433, 'depth': 4, 'learning_rate': 0.06118962542960755, 'l2_leaf_reg': 0.033060712038486186, 'border_count': 253, 'bagging_temperature': 0.6414660863499281, 'random_strength': 7.367863753357364}. Best is trial 61 with value: 0.8612568306010928.\n",
      "[I 2024-12-06 15:58:33,220] Trial 82 finished with value: 0.8448087431693988 and parameters: {'iterations': 389, 'depth': 4, 'learning_rate': 0.07322355273007441, 'l2_leaf_reg': 0.08252818823503312, 'border_count': 229, 'bagging_temperature': 0.8131813413641359, 'random_strength': 5.239537475010654}. Best is trial 61 with value: 0.8612568306010928.\n",
      "[I 2024-12-06 15:58:33,546] Trial 83 finished with value: 0.8218032786885245 and parameters: {'iterations': 313, 'depth': 4, 'learning_rate': 0.044865753965808816, 'l2_leaf_reg': 7.6434754998785595, 'border_count': 248, 'bagging_temperature': 0.5348074145637075, 'random_strength': 0.19230274812965417}. Best is trial 61 with value: 0.8612568306010928.\n",
      "[I 2024-12-06 15:58:33,915] Trial 84 finished with value: 0.8350273224043715 and parameters: {'iterations': 558, 'depth': 4, 'learning_rate': 0.03407418973399994, 'l2_leaf_reg': 0.05857591054712119, 'border_count': 214, 'bagging_temperature': 0.8800385273128658, 'random_strength': 2.4415392420329263}. Best is trial 61 with value: 0.8612568306010928.\n",
      "[I 2024-12-06 15:58:35,496] Trial 85 finished with value: 0.8415300546448087 and parameters: {'iterations': 462, 'depth': 9, 'learning_rate': 0.010369036461319835, 'l2_leaf_reg': 0.11793012339649432, 'border_count': 193, 'bagging_temperature': 0.7400782925452223, 'random_strength': 9.868869137056649}. Best is trial 61 with value: 0.8612568306010928.\n",
      "[I 2024-12-06 15:58:35,792] Trial 86 finished with value: 0.8284699453551913 and parameters: {'iterations': 641, 'depth': 4, 'learning_rate': 0.0556799794618168, 'l2_leaf_reg': 0.01400286975038603, 'border_count': 205, 'bagging_temperature': 0.4389763613572565, 'random_strength': 4.355298889578975}. Best is trial 61 with value: 0.8612568306010928.\n",
      "[I 2024-12-06 15:58:36,240] Trial 87 finished with value: 0.8546994535519126 and parameters: {'iterations': 696, 'depth': 4, 'learning_rate': 0.03823446682217805, 'l2_leaf_reg': 5.00644921731816, 'border_count': 241, 'bagging_temperature': 0.8430668012751854, 'random_strength': 6.33701109057912}. Best is trial 61 with value: 0.8612568306010928.\n",
      "[I 2024-12-06 15:58:36,887] Trial 88 finished with value: 0.8481420765027323 and parameters: {'iterations': 440, 'depth': 4, 'learning_rate': 0.024478747178447082, 'l2_leaf_reg': 4.844848769239934, 'border_count': 135, 'bagging_temperature': 0.8540958927862854, 'random_strength': 6.413239963233569}. Best is trial 61 with value: 0.8612568306010928.\n",
      "[I 2024-12-06 15:58:37,088] Trial 89 finished with value: 0.7985792349726777 and parameters: {'iterations': 498, 'depth': 5, 'learning_rate': 0.04091907983556865, 'l2_leaf_reg': 0.04688321062267389, 'border_count': 238, 'bagging_temperature': 0.6002434663584711, 'random_strength': 0.03377815119185818}. Best is trial 61 with value: 0.8612568306010928.\n",
      "[I 2024-12-06 15:58:37,488] Trial 90 finished with value: 0.8315300546448088 and parameters: {'iterations': 695, 'depth': 4, 'learning_rate': 0.03138057763527882, 'l2_leaf_reg': 0.02883574334876454, 'border_count': 246, 'bagging_temperature': 0.9219616119364407, 'random_strength': 2.872395595365968}. Best is trial 61 with value: 0.8612568306010928.\n",
      "[I 2024-12-06 15:58:37,848] Trial 91 finished with value: 0.8613661202185792 and parameters: {'iterations': 717, 'depth': 4, 'learning_rate': 0.05183212157953212, 'l2_leaf_reg': 2.050905423160657, 'border_count': 255, 'bagging_temperature': 0.8289890486077406, 'random_strength': 5.4192370836425425}. Best is trial 91 with value: 0.8613661202185792.\n",
      "[I 2024-12-06 15:58:38,216] Trial 92 finished with value: 0.8514207650273224 and parameters: {'iterations': 701, 'depth': 4, 'learning_rate': 0.05331451746398891, 'l2_leaf_reg': 3.5157074088314912, 'border_count': 255, 'bagging_temperature': 0.8989591716542292, 'random_strength': 7.244592689296752}. Best is trial 91 with value: 0.8613661202185792.\n",
      "[I 2024-12-06 15:58:38,526] Trial 93 finished with value: 0.8416393442622951 and parameters: {'iterations': 737, 'depth': 4, 'learning_rate': 0.06981711187179063, 'l2_leaf_reg': 5.7744815068541495, 'border_count': 242, 'bagging_temperature': 0.8444777018701816, 'random_strength': 5.89833857795073}. Best is trial 91 with value: 0.8613661202185792.\n",
      "[I 2024-12-06 15:58:39,048] Trial 94 finished with value: 0.844863387978142 and parameters: {'iterations': 857, 'depth': 8, 'learning_rate': 0.08769681174680774, 'l2_leaf_reg': 8.087441343394776, 'border_count': 250, 'bagging_temperature': 0.80982745925577, 'random_strength': 8.240219398591186}. Best is trial 91 with value: 0.8613661202185792.\n",
      "[I 2024-12-06 15:58:39,822] Trial 95 finished with value: 0.8514754098360656 and parameters: {'iterations': 601, 'depth': 4, 'learning_rate': 0.01304034318907054, 'l2_leaf_reg': 0.06333495950249374, 'border_count': 230, 'bagging_temperature': 0.9584871385662328, 'random_strength': 4.300949500977682}. Best is trial 91 with value: 0.8613661202185792.\n",
      "[I 2024-12-06 15:58:41,037] Trial 96 finished with value: 0.844863387978142 and parameters: {'iterations': 769, 'depth': 4, 'learning_rate': 0.006717441112716404, 'l2_leaf_reg': 0.06454124349533076, 'border_count': 229, 'bagging_temperature': 0.9529147094094739, 'random_strength': 3.487784401680218}. Best is trial 91 with value: 0.8613661202185792.\n",
      "[I 2024-12-06 15:58:41,787] Trial 97 finished with value: 0.844863387978142 and parameters: {'iterations': 599, 'depth': 4, 'learning_rate': 0.01328475341034469, 'l2_leaf_reg': 0.043057309276481937, 'border_count': 125, 'bagging_temperature': 0.9591302295514581, 'random_strength': 4.199313977953146}. Best is trial 91 with value: 0.8613661202185792.\n",
      "[I 2024-12-06 15:58:42,765] Trial 98 finished with value: 0.8383060109289617 and parameters: {'iterations': 683, 'depth': 4, 'learning_rate': 0.008683668094043437, 'l2_leaf_reg': 0.18007013197228383, 'border_count': 242, 'bagging_temperature': 0.675245488278972, 'random_strength': 2.186258136377349}. Best is trial 91 with value: 0.8613661202185792.\n",
      "[I 2024-12-06 15:58:43,177] Trial 99 finished with value: 0.844808743169399 and parameters: {'iterations': 624, 'depth': 4, 'learning_rate': 0.039118674632302064, 'l2_leaf_reg': 3.0251367649830128, 'border_count': 236, 'bagging_temperature': 0.9836939050252886, 'random_strength': 4.516469650109718}. Best is trial 91 with value: 0.8613661202185792.\n"
     ]
    }
   ],
   "source": [
    "study = optuna.create_study(direction=\"maximize\")\n",
    "study.optimize(objective, n_trials=100)"
   ]
  },
  {
   "cell_type": "code",
   "execution_count": 11,
   "metadata": {},
   "outputs": [
    {
     "name": "stdout",
     "output_type": "stream",
     "text": [
      "Best parameters: {'iterations': 717, 'depth': 4, 'learning_rate': 0.05183212157953212, 'l2_leaf_reg': 2.050905423160657, 'border_count': 255, 'bagging_temperature': 0.8289890486077406, 'random_strength': 5.4192370836425425}\n",
      "Best CV accuracy: 0.8613661202185792\n"
     ]
    }
   ],
   "source": [
    "print(\"Best parameters:\", study.best_params)\n",
    "print(\"Best CV accuracy:\", study.best_value)"
   ]
  },
  {
   "cell_type": "code",
   "execution_count": 12,
   "metadata": {},
   "outputs": [
    {
     "data": {
      "text/plain": [
       "<catboost.core.CatBoostClassifier at 0x150068d40>"
      ]
     },
     "execution_count": 12,
     "metadata": {},
     "output_type": "execute_result"
    }
   ],
   "source": [
    "best_params = study.best_params\n",
    "best_params[\"verbose\"] = 0\n",
    "final_model = CatBoostClassifier(**best_params)\n",
    "final_model.fit(X, y)"
   ]
  }
 ],
 "metadata": {
  "kernelspec": {
   "display_name": "Python (venv)",
   "language": "python",
   "name": "venv"
  },
  "language_info": {
   "codemirror_mode": {
    "name": "ipython",
    "version": 3
   },
   "file_extension": ".py",
   "mimetype": "text/x-python",
   "name": "python",
   "nbconvert_exporter": "python",
   "pygments_lexer": "ipython3",
   "version": "3.12.2"
  }
 },
 "nbformat": 4,
 "nbformat_minor": 2
}
