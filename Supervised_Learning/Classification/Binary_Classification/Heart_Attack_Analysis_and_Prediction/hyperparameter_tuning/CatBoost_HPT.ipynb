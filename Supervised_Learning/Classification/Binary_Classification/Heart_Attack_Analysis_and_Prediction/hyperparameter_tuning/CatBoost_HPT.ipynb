{
 "cells": [
  {
   "cell_type": "markdown",
   "metadata": {},
   "source": [
    "# CatBoost HyperParameter Tuning"
   ]
  },
  {
   "cell_type": "markdown",
   "metadata": {},
   "source": [
    "## Libraries"
   ]
  },
  {
   "cell_type": "code",
   "execution_count": 2,
   "metadata": {},
   "outputs": [],
   "source": [
    "import os\n",
    "os.chdir(\"../input\")\n",
    "\n",
    "import numpy as np\n",
    "import pandas as pd\n",
    "import optuna\n",
    "\n",
    "from sklearn.model_selection import StratifiedKFold, cross_val_score\n",
    "from sklearn.metrics import roc_auc_score, accuracy_score\n",
    "from catboost import CatBoostClassifier, Pool"
   ]
  },
  {
   "cell_type": "markdown",
   "metadata": {},
   "source": [
    "## Helper Functions"
   ]
  },
  {
   "cell_type": "code",
   "execution_count": null,
   "metadata": {},
   "outputs": [],
   "source": [
    "def objective(trial):\n",
    "    params = {\n",
    "        \"iterations\": trial.suggest_int(\"iterations\", 100, 1000),\n",
    "        \"depth\": trial.suggest_int(\"depth\", 4, 10),\n",
    "        \"learning_rate\": trial.suggest_float(\"learning_rate\", 1e-3, 0.3, log=True),\n",
    "        \"l2_leaf_reg\": trial.suggest_float(\"l2_leaf_reg\", 1e-3, 10, log=True),\n",
    "        \"border_count\": trial.suggest_int(\"border_count\", 32, 255),\n",
    "        \"bagging_temperature\": trial.suggest_float(\"bagging_temperature\", 0.0, 1.0),\n",
    "        \"random_strength\": trial.suggest_float(\"random_strength\", 1e-3, 10, log=True),\n",
    "        \"verbose\": 0,\n",
    "    }\n",
    "\n",
    "    skf = StratifiedKFold(n_splits=5, shuffle=True, random_state=42)\n",
    "\n",
    "    scores = []\n",
    "    for train_idx, valid_idx in skf.split(X, y):\n",
    "        X_train, X_valid = X.iloc[train_idx], X.iloc[valid_idx]\n",
    "        y_train, y_valid = y.iloc[train_idx], y.iloc[valid_idx]\n",
    "\n",
    "        train_pool = Pool(X_train, y_train)\n",
    "        valid_pool = Pool(X_valid, y_valid)\n",
    "\n",
    "        model = CatBoostClassifier(**params)\n",
    "        model.fit(train_pool, eval_set=valid_pool, early_stopping_rounds=50, verbose=0)\n",
    "\n",
    "        y_pred = model.predict(X_valid)\n",
    "        scores.append(accuracy_score(y_valid, y_pred))\n",
    "\n",
    "    return sum(scores) / len(scores)"
   ]
  },
  {
   "cell_type": "markdown",
   "metadata": {},
   "source": [
    "## Reading & Preparing Data"
   ]
  },
  {
   "cell_type": "code",
   "execution_count": 4,
   "metadata": {},
   "outputs": [],
   "source": [
    "df = pd.read_csv(\"heart.csv\")"
   ]
  },
  {
   "cell_type": "code",
   "execution_count": 5,
   "metadata": {},
   "outputs": [],
   "source": [
    "X = df.drop(\"output\", axis=1)\n",
    "y = df[\"output\"]"
   ]
  },
  {
   "cell_type": "markdown",
   "metadata": {},
   "source": [
    "## Hyperparameter Tuning"
   ]
  },
  {
   "cell_type": "code",
   "execution_count": 9,
   "metadata": {},
   "outputs": [
    {
     "name": "stderr",
     "output_type": "stream",
     "text": [
      "[I 2024-12-01 21:31:53,349] A new study created in memory with name: no-name-c5ea8e27-8ada-410d-a53f-d7a3ff7d28d3\n",
      "[I 2024-12-01 21:31:53,555] Trial 0 finished with value: 0.8018579234972677 and parameters: {'iterations': 779, 'depth': 6, 'learning_rate': 0.052033494151578825, 'l2_leaf_reg': 0.02254016530329813, 'border_count': 116, 'bagging_temperature': 0.6327781136649759, 'random_strength': 0.1624572895216702}. Best is trial 0 with value: 0.8018579234972677.\n",
      "[I 2024-12-01 21:31:53,936] Trial 1 finished with value: 0.8216939890710382 and parameters: {'iterations': 222, 'depth': 4, 'learning_rate': 0.011890359808222376, 'l2_leaf_reg': 0.0058418676890383886, 'border_count': 234, 'bagging_temperature': 0.8079029481311919, 'random_strength': 0.039918846445960714}. Best is trial 1 with value: 0.8216939890710382.\n",
      "[I 2024-12-01 21:31:54,112] Trial 2 finished with value: 0.811639344262295 and parameters: {'iterations': 463, 'depth': 4, 'learning_rate': 0.08959605105067305, 'l2_leaf_reg': 0.016538387500406603, 'border_count': 172, 'bagging_temperature': 0.21326802230550146, 'random_strength': 0.025570350477045405}. Best is trial 1 with value: 0.8216939890710382.\n",
      "[I 2024-12-01 21:31:54,993] Trial 3 finished with value: 0.7951912568306011 and parameters: {'iterations': 691, 'depth': 9, 'learning_rate': 0.009691717904318971, 'l2_leaf_reg': 0.012707671240036907, 'border_count': 126, 'bagging_temperature': 0.527704333178621, 'random_strength': 0.0634685749358953}. Best is trial 1 with value: 0.8216939890710382.\n",
      "[I 2024-12-01 21:31:55,275] Trial 4 finished with value: 0.8217486338797814 and parameters: {'iterations': 610, 'depth': 4, 'learning_rate': 0.03493452160598421, 'l2_leaf_reg': 0.9366304542226259, 'border_count': 80, 'bagging_temperature': 0.20606994532118883, 'random_strength': 0.02883776288234204}. Best is trial 4 with value: 0.8217486338797814.\n",
      "[I 2024-12-01 21:31:57,834] Trial 5 finished with value: 0.8282513661202187 and parameters: {'iterations': 523, 'depth': 9, 'learning_rate': 0.0016463896567675987, 'l2_leaf_reg': 0.022539673294983496, 'border_count': 109, 'bagging_temperature': 0.9226648526716793, 'random_strength': 1.632298249762502}. Best is trial 5 with value: 0.8282513661202187.\n",
      "[I 2024-12-01 21:31:58,036] Trial 6 finished with value: 0.7985792349726777 and parameters: {'iterations': 920, 'depth': 7, 'learning_rate': 0.09896254715488682, 'l2_leaf_reg': 0.02922817879601723, 'border_count': 153, 'bagging_temperature': 0.22131215337244936, 'random_strength': 0.5962733014556116}. Best is trial 5 with value: 0.8282513661202187.\n",
      "[I 2024-12-01 21:31:58,714] Trial 7 finished with value: 0.8415300546448087 and parameters: {'iterations': 740, 'depth': 8, 'learning_rate': 0.017338529596688856, 'l2_leaf_reg': 0.014216436317668042, 'border_count': 130, 'bagging_temperature': 0.1416722243119356, 'random_strength': 4.573417555171791}. Best is trial 7 with value: 0.8415300546448087.\n",
      "[I 2024-12-01 21:31:59,079] Trial 8 finished with value: 0.7789617486338798 and parameters: {'iterations': 903, 'depth': 9, 'learning_rate': 0.05149362454190401, 'l2_leaf_reg': 0.0011642922343311954, 'border_count': 106, 'bagging_temperature': 0.7454585942487204, 'random_strength': 0.004041987994704554}. Best is trial 7 with value: 0.8415300546448087.\n",
      "[I 2024-12-01 21:31:59,273] Trial 9 finished with value: 0.7953005464480875 and parameters: {'iterations': 342, 'depth': 6, 'learning_rate': 0.0685666830881665, 'l2_leaf_reg': 0.0032149015660444843, 'border_count': 253, 'bagging_temperature': 0.7014367815391892, 'random_strength': 0.011810318234090754}. Best is trial 7 with value: 0.8415300546448087.\n",
      "[I 2024-12-01 21:31:59,654] Trial 10 finished with value: 0.8381967213114754 and parameters: {'iterations': 123, 'depth': 10, 'learning_rate': 0.0034057726242154858, 'l2_leaf_reg': 0.36960644090229544, 'border_count': 33, 'bagging_temperature': 0.011677723586240224, 'random_strength': 9.527898744180886}. Best is trial 7 with value: 0.8415300546448087.\n",
      "[I 2024-12-01 21:32:00,772] Trial 11 finished with value: 0.8349180327868853 and parameters: {'iterations': 216, 'depth': 10, 'learning_rate': 0.003026037416573527, 'l2_leaf_reg': 0.36078584760355725, 'border_count': 34, 'bagging_temperature': 0.012037492576700504, 'random_strength': 7.929603002937748}. Best is trial 7 with value: 0.8415300546448087.\n",
      "[I 2024-12-01 21:32:01,138] Trial 12 finished with value: 0.8447540983606558 and parameters: {'iterations': 108, 'depth': 10, 'learning_rate': 0.004799439400155225, 'l2_leaf_reg': 9.191286094862377, 'border_count': 47, 'bagging_temperature': 0.00919381893770808, 'random_strength': 5.6757832473650565}. Best is trial 12 with value: 0.8447540983606558.\n",
      "[I 2024-12-01 21:32:03,694] Trial 13 finished with value: 0.828360655737705 and parameters: {'iterations': 745, 'depth': 8, 'learning_rate': 0.006224628559357192, 'l2_leaf_reg': 5.97476883168957, 'border_count': 184, 'bagging_temperature': 0.35937017183029524, 'random_strength': 1.4640429542665807}. Best is trial 12 with value: 0.8447540983606558.\n",
      "[I 2024-12-01 21:32:03,902] Trial 14 finished with value: 0.8216939890710382 and parameters: {'iterations': 359, 'depth': 7, 'learning_rate': 0.2908718245867351, 'l2_leaf_reg': 4.35380655922005, 'border_count': 71, 'bagging_temperature': 0.11014498069145658, 'random_strength': 0.35100340893968873}. Best is trial 12 with value: 0.8447540983606558.\n",
      "[I 2024-12-01 21:32:04,610] Trial 15 finished with value: 0.8249726775956285 and parameters: {'iterations': 997, 'depth': 8, 'learning_rate': 0.0204722901948702, 'l2_leaf_reg': 0.13001152021444837, 'border_count': 203, 'bagging_temperature': 0.4218377689359428, 'random_strength': 2.673940815234467}. Best is trial 12 with value: 0.8447540983606558.\n",
      "[I 2024-12-01 21:32:09,296] Trial 16 finished with value: 0.7721857923497268 and parameters: {'iterations': 627, 'depth': 10, 'learning_rate': 0.0013249142637264003, 'l2_leaf_reg': 0.07512742766936503, 'border_count': 51, 'bagging_temperature': 0.3443770499547971, 'random_strength': 0.001285305888509364}. Best is trial 12 with value: 0.8447540983606558.\n",
      "[I 2024-12-01 21:32:10,843] Trial 17 finished with value: 0.844863387978142 and parameters: {'iterations': 427, 'depth': 8, 'learning_rate': 0.0061859015085068665, 'l2_leaf_reg': 1.7103472494363976, 'border_count': 143, 'bagging_temperature': 0.10880513716458476, 'random_strength': 3.8709207925002898}. Best is trial 17 with value: 0.844863387978142.\n",
      "[I 2024-12-01 21:32:11,022] Trial 18 finished with value: 0.8249726775956285 and parameters: {'iterations': 100, 'depth': 6, 'learning_rate': 0.0047877834018697244, 'l2_leaf_reg': 2.3046923549988443, 'border_count': 80, 'bagging_temperature': 0.06978663074613098, 'random_strength': 0.6409858184687238}. Best is trial 17 with value: 0.844863387978142.\n",
      "[I 2024-12-01 21:32:13,292] Trial 19 finished with value: 0.8084153005464481 and parameters: {'iterations': 369, 'depth': 9, 'learning_rate': 0.002382603317118899, 'l2_leaf_reg': 8.690724560203167, 'border_count': 215, 'bagging_temperature': 0.28700852268258503, 'random_strength': 0.24085630941152444}. Best is trial 17 with value: 0.844863387978142.\n",
      "[I 2024-12-01 21:32:14,240] Trial 20 finished with value: 0.8282513661202187 and parameters: {'iterations': 230, 'depth': 8, 'learning_rate': 0.0010096737394777267, 'l2_leaf_reg': 1.4732023369339993, 'border_count': 151, 'bagging_temperature': 0.5316212745202493, 'random_strength': 0.9664951091996847}. Best is trial 17 with value: 0.844863387978142.\n",
      "[I 2024-12-01 21:32:14,925] Trial 21 finished with value: 0.8382513661202186 and parameters: {'iterations': 459, 'depth': 7, 'learning_rate': 0.02152283959161751, 'l2_leaf_reg': 0.6366679351206757, 'border_count': 134, 'bagging_temperature': 0.11752243137521078, 'random_strength': 3.8976469919494003}. Best is trial 17 with value: 0.844863387978142.\n",
      "[I 2024-12-01 21:32:17,181] Trial 22 finished with value: 0.8284153005464481 and parameters: {'iterations': 818, 'depth': 8, 'learning_rate': 0.007854366642218046, 'l2_leaf_reg': 2.4018673087176348, 'border_count': 171, 'bagging_temperature': 0.14800221658323331, 'random_strength': 4.260110443495305}. Best is trial 17 with value: 0.844863387978142.\n",
      "[I 2024-12-01 21:32:17,910] Trial 23 finished with value: 0.8316393442622951 and parameters: {'iterations': 666, 'depth': 5, 'learning_rate': 0.01519776511487499, 'l2_leaf_reg': 0.08095806326489999, 'border_count': 102, 'bagging_temperature': 0.005940517505781756, 'random_strength': 4.499586001895326}. Best is trial 17 with value: 0.844863387978142.\n",
      "[I 2024-12-01 21:32:20,350] Trial 24 finished with value: 0.8381967213114754 and parameters: {'iterations': 556, 'depth': 9, 'learning_rate': 0.0049362260195247145, 'l2_leaf_reg': 3.9553098675094125, 'border_count': 64, 'bagging_temperature': 0.294557002173064, 'random_strength': 1.6714528534077144}. Best is trial 17 with value: 0.844863387978142.\n",
      "[I 2024-12-01 21:32:20,906] Trial 25 finished with value: 0.8481420765027323 and parameters: {'iterations': 300, 'depth': 7, 'learning_rate': 0.029043540227265106, 'l2_leaf_reg': 0.3188299753328419, 'border_count': 89, 'bagging_temperature': 0.1500474571729091, 'random_strength': 9.26665265122875}. Best is trial 25 with value: 0.8481420765027323.\n",
      "[I 2024-12-01 21:32:21,420] Trial 26 finished with value: 0.8383060109289617 and parameters: {'iterations': 300, 'depth': 7, 'learning_rate': 0.03025163980209855, 'l2_leaf_reg': 0.21131971041097447, 'border_count': 89, 'bagging_temperature': 0.44189710605190635, 'random_strength': 9.36806597869219}. Best is trial 25 with value: 0.8481420765027323.\n",
      "[I 2024-12-01 21:32:22,232] Trial 27 finished with value: 0.8350273224043716 and parameters: {'iterations': 439, 'depth': 5, 'learning_rate': 0.008500212375464479, 'l2_leaf_reg': 1.1987679800216635, 'border_count': 55, 'bagging_temperature': 0.07859191914555863, 'random_strength': 1.7668477133335432}. Best is trial 25 with value: 0.8481420765027323.\n",
      "[I 2024-12-01 21:32:23,103] Trial 28 finished with value: 0.7918579234972677 and parameters: {'iterations': 180, 'depth': 10, 'learning_rate': 0.14150882726302205, 'l2_leaf_reg': 9.031134263055725, 'border_count': 49, 'bagging_temperature': 0.2902833634347055, 'random_strength': 0.5871212594525732}. Best is trial 25 with value: 0.8481420765027323.\n",
      "[I 2024-12-01 21:32:23,370] Trial 29 finished with value: 0.8150819672131148 and parameters: {'iterations': 282, 'depth': 6, 'learning_rate': 0.031771243573606556, 'l2_leaf_reg': 0.5719584299184637, 'border_count': 92, 'bagging_temperature': 0.6120642497309783, 'random_strength': 0.11881949048646405}. Best is trial 25 with value: 0.8481420765027323.\n",
      "[I 2024-12-01 21:32:23,727] Trial 30 finished with value: 0.8381967213114754 and parameters: {'iterations': 149, 'depth': 8, 'learning_rate': 0.0022215696612025984, 'l2_leaf_reg': 2.4162102012168867, 'border_count': 66, 'bagging_temperature': 0.16710855366370436, 'random_strength': 2.7650179923819236}. Best is trial 25 with value: 0.8481420765027323.\n",
      "[I 2024-12-01 21:32:24,514] Trial 31 finished with value: 0.8481967213114754 and parameters: {'iterations': 548, 'depth': 7, 'learning_rate': 0.014150878286216481, 'l2_leaf_reg': 0.03893791719315954, 'border_count': 123, 'bagging_temperature': 0.07269839713966658, 'random_strength': 5.801888147206759}. Best is trial 31 with value: 0.8481967213114754.\n",
      "[I 2024-12-01 21:32:25,321] Trial 32 finished with value: 0.8281967213114754 and parameters: {'iterations': 412, 'depth': 7, 'learning_rate': 0.01157679433048777, 'l2_leaf_reg': 0.03738007886727885, 'border_count': 116, 'bagging_temperature': 0.06258608534447067, 'random_strength': 6.3268362064333115}. Best is trial 31 with value: 0.8481967213114754.\n",
      "[I 2024-12-01 21:32:26,427] Trial 33 finished with value: 0.8447540983606558 and parameters: {'iterations': 531, 'depth': 5, 'learning_rate': 0.004256377671912087, 'l2_leaf_reg': 0.20195639408472138, 'border_count': 141, 'bagging_temperature': 0.21693986542267063, 'random_strength': 2.702446254232878}. Best is trial 31 with value: 0.8481967213114754.\n",
      "[I 2024-12-01 21:32:27,260] Trial 34 finished with value: 0.8513114754098361 and parameters: {'iterations': 284, 'depth': 7, 'learning_rate': 0.006770944633553727, 'l2_leaf_reg': 0.052165734094040614, 'border_count': 168, 'bagging_temperature': 0.06374892218702467, 'random_strength': 9.972011390206982}. Best is trial 34 with value: 0.8513114754098361.\n",
      "[I 2024-12-01 21:32:27,981] Trial 35 finished with value: 0.8480874316939891 and parameters: {'iterations': 310, 'depth': 7, 'learning_rate': 0.011211866891997338, 'l2_leaf_reg': 0.007143110981886479, 'border_count': 168, 'bagging_temperature': 0.17545733356467463, 'random_strength': 8.968607857659372}. Best is trial 34 with value: 0.8513114754098361.\n",
      "[I 2024-12-01 21:32:28,649] Trial 36 finished with value: 0.8414207650273224 and parameters: {'iterations': 281, 'depth': 7, 'learning_rate': 0.013716008986915136, 'l2_leaf_reg': 0.00925934760324642, 'border_count': 175, 'bagging_temperature': 0.19854132545663628, 'random_strength': 9.398633736198265}. Best is trial 34 with value: 0.8513114754098361.\n",
      "[I 2024-12-01 21:32:28,992] Trial 37 finished with value: 0.8283060109289618 and parameters: {'iterations': 218, 'depth': 6, 'learning_rate': 0.025534829430346833, 'l2_leaf_reg': 0.0033609096611077103, 'border_count': 160, 'bagging_temperature': 0.25149156881323037, 'random_strength': 2.165668756601589}. Best is trial 34 with value: 0.8513114754098361.\n",
      "[I 2024-12-01 21:32:29,303] Trial 38 finished with value: 0.8350819672131149 and parameters: {'iterations': 493, 'depth': 7, 'learning_rate': 0.045341287845563, 'l2_leaf_reg': 0.044712312608384375, 'border_count': 192, 'bagging_temperature': 0.8615951929305367, 'random_strength': 1.0285786578642564}. Best is trial 34 with value: 0.8513114754098361.\n",
      "[I 2024-12-01 21:32:29,674] Trial 39 finished with value: 0.8018579234972677 and parameters: {'iterations': 325, 'depth': 6, 'learning_rate': 0.010511924441388628, 'l2_leaf_reg': 0.007528450094398723, 'border_count': 125, 'bagging_temperature': 0.9952194639092133, 'random_strength': 0.07980135927824027}. Best is trial 34 with value: 0.8513114754098361.\n",
      "[I 2024-12-01 21:32:30,427] Trial 40 finished with value: 0.8547540983606557 and parameters: {'iterations': 590, 'depth': 6, 'learning_rate': 0.017982786550967498, 'l2_leaf_reg': 0.019810256994338128, 'border_count': 162, 'bagging_temperature': 0.16942275229559609, 'random_strength': 5.955236778334762}. Best is trial 40 with value: 0.8547540983606557.\n",
      "[I 2024-12-01 21:32:31,075] Trial 41 finished with value: 0.8349726775956284 and parameters: {'iterations': 578, 'depth': 6, 'learning_rate': 0.01800584024522362, 'l2_leaf_reg': 0.020292426001216682, 'border_count': 165, 'bagging_temperature': 0.17322284646401842, 'random_strength': 6.2839994525609315}. Best is trial 40 with value: 0.8547540983606557.\n",
      "[I 2024-12-01 21:32:31,823] Trial 42 finished with value: 0.8348633879781421 and parameters: {'iterations': 398, 'depth': 7, 'learning_rate': 0.012431491801513305, 'l2_leaf_reg': 0.05421343933131917, 'border_count': 188, 'bagging_temperature': 0.05508043667950757, 'random_strength': 5.651800803984508}. Best is trial 40 with value: 0.8547540983606557.\n",
      "[I 2024-12-01 21:32:32,124] Trial 43 finished with value: 0.8151912568306011 and parameters: {'iterations': 253, 'depth': 7, 'learning_rate': 0.036673185949078556, 'l2_leaf_reg': 0.00515912892760863, 'border_count': 206, 'bagging_temperature': 0.24915281697613798, 'random_strength': 0.014147544672192754}. Best is trial 40 with value: 0.8547540983606557.\n",
      "[I 2024-12-01 21:32:33,207] Trial 44 finished with value: 0.8448087431693988 and parameters: {'iterations': 501, 'depth': 6, 'learning_rate': 0.008592180154116336, 'l2_leaf_reg': 0.012193683221797778, 'border_count': 121, 'bagging_temperature': 0.15575439597640822, 'random_strength': 9.641700446575921}. Best is trial 40 with value: 0.8547540983606557.\n",
      "[I 2024-12-01 21:32:33,717] Trial 45 finished with value: 0.8482513661202186 and parameters: {'iterations': 616, 'depth': 5, 'learning_rate': 0.022982615097390312, 'l2_leaf_reg': 0.027799341102488957, 'border_count': 160, 'bagging_temperature': 0.3507192248417341, 'random_strength': 2.817470109241708}. Best is trial 40 with value: 0.8547540983606557.\n",
      "[I 2024-12-01 21:32:34,019] Trial 46 finished with value: 0.8316939890710383 and parameters: {'iterations': 674, 'depth': 4, 'learning_rate': 0.05690956359069785, 'l2_leaf_reg': 0.027283950415937945, 'border_count': 151, 'bagging_temperature': 0.37933741379918595, 'random_strength': 3.0192871919457365}. Best is trial 40 with value: 0.8547540983606557.\n",
      "[I 2024-12-01 21:32:34,256] Trial 47 finished with value: 0.8350819672131149 and parameters: {'iterations': 595, 'depth': 6, 'learning_rate': 0.08351269283441376, 'l2_leaf_reg': 0.13288215209789703, 'border_count': 178, 'bagging_temperature': 0.47395030760689705, 'random_strength': 1.0766681767460358}. Best is trial 40 with value: 0.8547540983606557.\n",
      "[I 2024-12-01 21:32:34,843] Trial 48 finished with value: 0.8415300546448087 and parameters: {'iterations': 788, 'depth': 5, 'learning_rate': 0.023458717994886667, 'l2_leaf_reg': 0.0560127822499286, 'border_count': 136, 'bagging_temperature': 0.1056967582831692, 'random_strength': 5.739688730014637}. Best is trial 40 with value: 0.8547540983606557.\n",
      "[I 2024-12-01 21:32:35,282] Trial 49 finished with value: 0.8183606557377049 and parameters: {'iterations': 724, 'depth': 4, 'learning_rate': 0.015734561669169818, 'l2_leaf_reg': 0.03422557850358062, 'border_count': 112, 'bagging_temperature': 0.3164423640343267, 'random_strength': 0.05126053470093295}. Best is trial 40 with value: 0.8547540983606557.\n",
      "[I 2024-12-01 21:32:35,702] Trial 50 finished with value: 0.8449726775956284 and parameters: {'iterations': 636, 'depth': 5, 'learning_rate': 0.03861948349897945, 'l2_leaf_reg': 0.01705044762939374, 'border_count': 228, 'bagging_temperature': 0.2461689400732745, 'random_strength': 3.3355151716335736}. Best is trial 40 with value: 0.8547540983606557.\n",
      "[I 2024-12-01 21:32:36,210] Trial 51 finished with value: 0.8415300546448087 and parameters: {'iterations': 179, 'depth': 7, 'learning_rate': 0.017987821329180215, 'l2_leaf_reg': 0.0011839797069592326, 'border_count': 159, 'bagging_temperature': 0.03880836572061214, 'random_strength': 7.170731397587907}. Best is trial 40 with value: 0.8547540983606557.\n",
      "[I 2024-12-01 21:32:37,237] Trial 52 finished with value: 0.8381420765027322 and parameters: {'iterations': 372, 'depth': 7, 'learning_rate': 0.007513569456927916, 'l2_leaf_reg': 0.004416316046430836, 'border_count': 169, 'bagging_temperature': 0.1879849715134687, 'random_strength': 4.975149058730976}. Best is trial 40 with value: 0.8547540983606557.\n",
      "[I 2024-12-01 21:32:37,709] Trial 53 finished with value: 0.8415846994535519 and parameters: {'iterations': 706, 'depth': 6, 'learning_rate': 0.02448739187667487, 'l2_leaf_reg': 0.01129640895877554, 'border_count': 196, 'bagging_temperature': 0.12534669857493005, 'random_strength': 9.876929543286627}. Best is trial 40 with value: 0.8547540983606557.\n",
      "[I 2024-12-01 21:32:38,632] Trial 54 finished with value: 0.8383060109289617 and parameters: {'iterations': 322, 'depth': 7, 'learning_rate': 0.011402466170752409, 'l2_leaf_reg': 0.021681233967992045, 'border_count': 151, 'bagging_temperature': 0.5560771067614262, 'random_strength': 2.200226300075948}. Best is trial 40 with value: 0.8547540983606557.\n",
      "[I 2024-12-01 21:32:40,384] Trial 55 finished with value: 0.8480874316939891 and parameters: {'iterations': 483, 'depth': 8, 'learning_rate': 0.006470100207096082, 'l2_leaf_reg': 0.11487917439470095, 'border_count': 181, 'bagging_temperature': 0.3911646116351518, 'random_strength': 6.922669625051796}. Best is trial 40 with value: 0.8547540983606557.\n",
      "[I 2024-12-01 21:32:40,970] Trial 56 finished with value: 0.8284153005464481 and parameters: {'iterations': 862, 'depth': 6, 'learning_rate': 0.017896587244725568, 'l2_leaf_reg': 0.0018762690564162415, 'border_count': 161, 'bagging_temperature': 0.08576422299702824, 'random_strength': 1.2636261729188485}. Best is trial 40 with value: 0.8547540983606557.\n",
      "[I 2024-12-01 21:32:41,653] Trial 57 finished with value: 0.8414754098360655 and parameters: {'iterations': 625, 'depth': 5, 'learning_rate': 0.028000054210047916, 'l2_leaf_reg': 0.2232526862683424, 'border_count': 144, 'bagging_temperature': 0.042988737551445194, 'random_strength': 3.9806847684361264}. Best is trial 40 with value: 0.8547540983606557.\n",
      "[I 2024-12-01 21:32:42,291] Trial 58 finished with value: 0.7951366120218579 and parameters: {'iterations': 561, 'depth': 8, 'learning_rate': 0.013502076990928643, 'l2_leaf_reg': 0.07526625690569282, 'border_count': 102, 'bagging_temperature': 0.22734795362239363, 'random_strength': 0.002411234208555833}. Best is trial 40 with value: 0.8547540983606557.\n",
      "[I 2024-12-01 21:32:42,939] Trial 59 finished with value: 0.8284153005464481 and parameters: {'iterations': 254, 'depth': 7, 'learning_rate': 0.009910948782696225, 'l2_leaf_reg': 0.00693071730988915, 'border_count': 131, 'bagging_temperature': 0.13142321643991217, 'random_strength': 4.883068982742938}. Best is trial 40 with value: 0.8547540983606557.\n",
      "[I 2024-12-01 21:32:43,288] Trial 60 finished with value: 0.854863387978142 and parameters: {'iterations': 517, 'depth': 7, 'learning_rate': 0.04257584567975313, 'l2_leaf_reg': 0.026454498950122002, 'border_count': 91, 'bagging_temperature': 0.33295062846398416, 'random_strength': 7.491649529064597}. Best is trial 60 with value: 0.854863387978142.\n",
      "[I 2024-12-01 21:32:43,666] Trial 61 finished with value: 0.8581420765027323 and parameters: {'iterations': 540, 'depth': 7, 'learning_rate': 0.04200623759811386, 'l2_leaf_reg': 0.028278249345751846, 'border_count': 90, 'bagging_temperature': 0.34945523906714304, 'random_strength': 7.170576274930001}. Best is trial 61 with value: 0.8581420765027323.\n",
      "[I 2024-12-01 21:32:43,965] Trial 62 finished with value: 0.8414754098360655 and parameters: {'iterations': 523, 'depth': 6, 'learning_rate': 0.05885158807918804, 'l2_leaf_reg': 0.02639521473034618, 'border_count': 82, 'bagging_temperature': 0.43114280695196033, 'random_strength': 6.912601163513542}. Best is trial 61 with value: 0.8581420765027323.\n",
      "[I 2024-12-01 21:32:44,295] Trial 63 finished with value: 0.8415846994535519 and parameters: {'iterations': 649, 'depth': 7, 'learning_rate': 0.043703299756237365, 'l2_leaf_reg': 0.0547923200895727, 'border_count': 97, 'bagging_temperature': 0.34580247905183154, 'random_strength': 2.02961647117156}. Best is trial 61 with value: 0.8581420765027323.\n",
      "[I 2024-12-01 21:32:44,550] Trial 64 finished with value: 0.8218032786885245 and parameters: {'iterations': 603, 'depth': 8, 'learning_rate': 0.1123110921778866, 'l2_leaf_reg': 0.015585797598980693, 'border_count': 81, 'bagging_temperature': 0.4909004328291787, 'random_strength': 3.2476696689321978}. Best is trial 61 with value: 0.8581420765027323.\n",
      "[I 2024-12-01 21:32:44,811] Trial 65 finished with value: 0.8381420765027322 and parameters: {'iterations': 537, 'depth': 7, 'learning_rate': 0.07392876612675252, 'l2_leaf_reg': 0.03964182043562973, 'border_count': 90, 'bagging_temperature': 0.3203071149043526, 'random_strength': 4.6243032191422735}. Best is trial 61 with value: 0.8581420765027323.\n",
      "[I 2024-12-01 21:32:45,314] Trial 66 finished with value: 0.8284153005464481 and parameters: {'iterations': 455, 'depth': 8, 'learning_rate': 0.03418959363420659, 'l2_leaf_reg': 0.08803300040332247, 'border_count': 71, 'bagging_temperature': 0.3920310669004476, 'random_strength': 7.38226031387111}. Best is trial 61 with value: 0.8581420765027323.\n",
      "[I 2024-12-01 21:32:45,580] Trial 67 finished with value: 0.8216939890710382 and parameters: {'iterations': 576, 'depth': 6, 'learning_rate': 0.04549209736890496, 'l2_leaf_reg': 0.31589741316122705, 'border_count': 111, 'bagging_temperature': 0.26533700008142624, 'random_strength': 0.4078833413420737}. Best is trial 61 with value: 0.8581420765027323.\n",
      "[I 2024-12-01 21:32:46,232] Trial 68 finished with value: 0.838360655737705 and parameters: {'iterations': 508, 'depth': 7, 'learning_rate': 0.02169846148304157, 'l2_leaf_reg': 0.16274441572137924, 'border_count': 74, 'bagging_temperature': 0.021299399761288945, 'random_strength': 3.7042433738814067}. Best is trial 61 with value: 0.8581420765027323.\n",
      "[I 2024-12-01 21:32:46,521] Trial 69 finished with value: 0.8218032786885245 and parameters: {'iterations': 675, 'depth': 5, 'learning_rate': 0.029502291259733773, 'l2_leaf_reg': 0.02930301610462605, 'border_count': 105, 'bagging_temperature': 0.09967014537020735, 'random_strength': 0.2064859416333806}. Best is trial 61 with value: 0.8581420765027323.\n",
      "[I 2024-12-01 21:32:46,913] Trial 70 finished with value: 0.8150273224043716 and parameters: {'iterations': 390, 'depth': 8, 'learning_rate': 0.06523590489420639, 'l2_leaf_reg': 0.06102223094231974, 'border_count': 120, 'bagging_temperature': 0.4558512604151318, 'random_strength': 2.357371522451253}. Best is trial 61 with value: 0.8581420765027323.\n",
      "[I 2024-12-01 21:32:47,407] Trial 71 finished with value: 0.8381967213114754 and parameters: {'iterations': 469, 'depth': 7, 'learning_rate': 0.02044738115594088, 'l2_leaf_reg': 0.01930739940095409, 'border_count': 170, 'bagging_temperature': 0.2091404159688223, 'random_strength': 8.344852939248558}. Best is trial 61 with value: 0.8581420765027323.\n",
      "[I 2024-12-01 21:32:48,344] Trial 72 finished with value: 0.8481420765027323 and parameters: {'iterations': 332, 'depth': 7, 'learning_rate': 0.0036263062204029335, 'l2_leaf_reg': 0.009729764453109066, 'border_count': 59, 'bagging_temperature': 0.16463847197652054, 'random_strength': 5.509888604875305}. Best is trial 61 with value: 0.8581420765027323.\n",
      "[I 2024-12-01 21:32:49,324] Trial 73 finished with value: 0.8447540983606558 and parameters: {'iterations': 351, 'depth': 7, 'learning_rate': 0.0021648149827963995, 'l2_leaf_reg': 0.009945797459980745, 'border_count': 37, 'bagging_temperature': 0.1420605300104295, 'random_strength': 5.12292131438406}. Best is trial 61 with value: 0.8581420765027323.\n",
      "[I 2024-12-01 21:32:50,913] Trial 74 finished with value: 0.8315300546448088 and parameters: {'iterations': 558, 'depth': 7, 'learning_rate': 0.0037034785187235976, 'l2_leaf_reg': 0.013891252576788275, 'border_count': 59, 'bagging_temperature': 0.7001257235120794, 'random_strength': 6.827106577779036}. Best is trial 61 with value: 0.8581420765027323.\n",
      "[I 2024-12-01 21:32:52,211] Trial 75 finished with value: 0.8547540983606557 and parameters: {'iterations': 422, 'depth': 7, 'learning_rate': 0.002998953977227938, 'l2_leaf_reg': 0.0420107933923673, 'border_count': 83, 'bagging_temperature': 0.3080572371976958, 'random_strength': 3.647018529644105}. Best is trial 61 with value: 0.8581420765027323.\n",
      "[I 2024-12-01 21:32:53,236] Trial 76 finished with value: 0.8250273224043717 and parameters: {'iterations': 433, 'depth': 6, 'learning_rate': 0.002804231551893215, 'l2_leaf_reg': 0.0426971364549782, 'border_count': 85, 'bagging_temperature': 0.30392773272124823, 'random_strength': 0.7851163004144204}. Best is trial 61 with value: 0.8581420765027323.\n",
      "[I 2024-12-01 21:32:53,552] Trial 77 finished with value: 0.828360655737705 and parameters: {'iterations': 592, 'depth': 7, 'learning_rate': 0.040750250513333086, 'l2_leaf_reg': 0.03173737587267222, 'border_count': 95, 'bagging_temperature': 0.36232436684040936, 'random_strength': 1.434551603425964}. Best is trial 61 with value: 0.8581420765027323.\n",
      "[I 2024-12-01 21:32:54,614] Trial 78 finished with value: 0.8414754098360655 and parameters: {'iterations': 545, 'depth': 4, 'learning_rate': 0.0016707940292732682, 'l2_leaf_reg': 0.6196647211903383, 'border_count': 75, 'bagging_temperature': 0.27323186263172583, 'random_strength': 3.3867071085976064}. Best is trial 61 with value: 0.8581420765027323.\n",
      "[I 2024-12-01 21:32:55,633] Trial 79 finished with value: 0.8284153005464481 and parameters: {'iterations': 472, 'depth': 6, 'learning_rate': 0.0057251596060407094, 'l2_leaf_reg': 0.024358974770907208, 'border_count': 142, 'bagging_temperature': 0.41888786883302787, 'random_strength': 2.7236732527522465}. Best is trial 61 with value: 0.8581420765027323.\n",
      "[I 2024-12-01 21:32:55,948] Trial 80 finished with value: 0.8183060109289617 and parameters: {'iterations': 507, 'depth': 8, 'learning_rate': 0.049483246417015785, 'l2_leaf_reg': 0.047944081086172964, 'border_count': 65, 'bagging_temperature': 0.34136059415770165, 'random_strength': 1.7831750319518507}. Best is trial 61 with value: 0.8581420765027323.\n",
      "[I 2024-12-01 21:32:56,779] Trial 81 finished with value: 0.8349726775956284 and parameters: {'iterations': 290, 'depth': 7, 'learning_rate': 0.0036494673953362104, 'l2_leaf_reg': 0.0704091391369914, 'border_count': 54, 'bagging_temperature': 0.07671808367121258, 'random_strength': 5.915150854029163}. Best is trial 61 with value: 0.8581420765027323.\n",
      "[I 2024-12-01 21:32:57,454] Trial 82 finished with value: 0.8348633879781421 and parameters: {'iterations': 244, 'depth': 7, 'learning_rate': 0.00178395290945474, 'l2_leaf_reg': 0.018224363669669404, 'border_count': 45, 'bagging_temperature': 0.159130903747002, 'random_strength': 4.346992076241323}. Best is trial 61 with value: 0.8581420765027323.\n",
      "[I 2024-12-01 21:32:58,406] Trial 83 finished with value: 0.8414754098360655 and parameters: {'iterations': 338, 'depth': 7, 'learning_rate': 0.004397273115129776, 'l2_leaf_reg': 0.09681051349851934, 'border_count': 86, 'bagging_temperature': 0.2248501013931346, 'random_strength': 8.057699823270967}. Best is trial 61 with value: 0.8581420765027323.\n",
      "[I 2024-12-01 21:32:59,593] Trial 84 finished with value: 0.8415846994535519 and parameters: {'iterations': 409, 'depth': 7, 'learning_rate': 0.0029188403005705617, 'l2_leaf_reg': 0.03495911036958056, 'border_count': 97, 'bagging_temperature': 0.3274211817405057, 'random_strength': 5.631615814379577}. Best is trial 61 with value: 0.8581420765027323.\n",
      "[I 2024-12-01 21:33:00,034] Trial 85 finished with value: 0.831584699453552 and parameters: {'iterations': 381, 'depth': 8, 'learning_rate': 0.02708594579323812, 'l2_leaf_reg': 0.009064031656030909, 'border_count': 60, 'bagging_temperature': 0.18474739124107734, 'random_strength': 4.11349497964802}. Best is trial 61 with value: 0.8581420765027323.\n",
      "[I 2024-12-01 21:33:00,473] Trial 86 finished with value: 0.8382513661202186 and parameters: {'iterations': 199, 'depth': 7, 'learning_rate': 0.03208880558672956, 'l2_leaf_reg': 0.8501699292521168, 'border_count': 78, 'bagging_temperature': 0.5180086009068106, 'random_strength': 9.841757169492551}. Best is trial 61 with value: 0.8581420765027323.\n",
      "[I 2024-12-01 21:33:01,028] Trial 87 finished with value: 0.8415300546448087 and parameters: {'iterations': 623, 'depth': 6, 'learning_rate': 0.015267691934836559, 'l2_leaf_reg': 0.014564901860163416, 'border_count': 154, 'bagging_temperature': 0.406934087235861, 'random_strength': 2.637459245751198}. Best is trial 61 with value: 0.8581420765027323.\n",
      "[I 2024-12-01 21:33:01,607] Trial 88 finished with value: 0.7953005464480875 and parameters: {'iterations': 648, 'depth': 7, 'learning_rate': 0.006924393986509469, 'l2_leaf_reg': 0.021854765240457145, 'border_count': 101, 'bagging_temperature': 0.2845545161718127, 'random_strength': 0.021571117796104163}. Best is trial 61 with value: 0.8581420765027323.\n",
      "[I 2024-12-01 21:33:02,423] Trial 89 finished with value: 0.8479234972677595 and parameters: {'iterations': 265, 'depth': 7, 'learning_rate': 0.0032303576675024024, 'l2_leaf_reg': 0.02936167197720307, 'border_count': 186, 'bagging_temperature': 0.029752458162495554, 'random_strength': 7.7082368206893905}. Best is trial 61 with value: 0.8581420765027323.\n",
      "[I 2024-12-01 21:33:03,123] Trial 90 finished with value: 0.8415300546448087 and parameters: {'iterations': 314, 'depth': 6, 'learning_rate': 0.008773253338404273, 'l2_leaf_reg': 0.042830298133214505, 'border_count': 43, 'bagging_temperature': 0.09894510934348696, 'random_strength': 5.044187245604087}. Best is trial 61 with value: 0.8581420765027323.\n",
      "[I 2024-12-01 21:33:03,583] Trial 91 finished with value: 0.8481420765027323 and parameters: {'iterations': 312, 'depth': 7, 'learning_rate': 0.019958824001031918, 'l2_leaf_reg': 0.007678720280301115, 'border_count': 173, 'bagging_temperature': 0.17988906827271472, 'random_strength': 9.857152065826234}. Best is trial 61 with value: 0.8581420765027323.\n",
      "[I 2024-12-01 21:33:04,088] Trial 92 finished with value: 0.8449180327868853 and parameters: {'iterations': 277, 'depth': 7, 'learning_rate': 0.02002329747163569, 'l2_leaf_reg': 0.0037958327380134046, 'border_count': 164, 'bagging_temperature': 5.810830682281831e-06, 'random_strength': 6.097184489746269}. Best is trial 61 with value: 0.8581420765027323.\n",
      "[I 2024-12-01 21:33:04,584] Trial 93 finished with value: 0.8349180327868853 and parameters: {'iterations': 357, 'depth': 7, 'learning_rate': 0.024269304582215337, 'l2_leaf_reg': 0.005942932567444805, 'border_count': 177, 'bagging_temperature': 0.2373630382136357, 'random_strength': 8.380822108249456}. Best is trial 61 with value: 0.8581420765027323.\n",
      "[I 2024-12-01 21:33:05,389] Trial 94 finished with value: 0.8283606557377048 and parameters: {'iterations': 576, 'depth': 7, 'learning_rate': 0.013404788515261317, 'l2_leaf_reg': 0.02365720809295836, 'border_count': 156, 'bagging_temperature': 0.12687873076967499, 'random_strength': 3.8863262361187094}. Best is trial 61 with value: 0.8581420765027323.\n",
      "[I 2024-12-01 21:33:06,205] Trial 95 finished with value: 0.7886338797814207 and parameters: {'iterations': 300, 'depth': 8, 'learning_rate': 0.0051589393511170725, 'l2_leaf_reg': 0.011337681323066544, 'border_count': 148, 'bagging_temperature': 0.058478815822100114, 'random_strength': 0.006964271499256446}. Best is trial 61 with value: 0.8581420765027323.\n",
      "[I 2024-12-01 21:33:06,812] Trial 96 finished with value: 0.8579234972677595 and parameters: {'iterations': 418, 'depth': 7, 'learning_rate': 0.016789503888013285, 'l2_leaf_reg': 0.0026690000112467656, 'border_count': 174, 'bagging_temperature': 0.19886445434164413, 'random_strength': 9.904910757426098}. Best is trial 61 with value: 0.8581420765027323.\n",
      "[I 2024-12-01 21:33:06,971] Trial 97 finished with value: 0.8415846994535519 and parameters: {'iterations': 450, 'depth': 5, 'learning_rate': 0.2967467556824278, 'l2_leaf_reg': 0.034339829760141445, 'border_count': 195, 'bagging_temperature': 0.20290871410570785, 'random_strength': 6.509762557516599}. Best is trial 61 with value: 0.8581420765027323.\n",
      "[I 2024-12-01 21:33:08,922] Trial 98 finished with value: 0.828360655737705 and parameters: {'iterations': 419, 'depth': 9, 'learning_rate': 0.0024873816948656866, 'l2_leaf_reg': 0.002068014975095597, 'border_count': 182, 'bagging_temperature': 0.37002396385915265, 'random_strength': 3.1547353674643848}. Best is trial 61 with value: 0.8581420765027323.\n",
      "[I 2024-12-01 21:33:09,621] Trial 99 finished with value: 0.8349726775956284 and parameters: {'iterations': 511, 'depth': 6, 'learning_rate': 0.01596768393685389, 'l2_leaf_reg': 0.06253639725683002, 'border_count': 69, 'bagging_temperature': 0.2626588681230957, 'random_strength': 7.787872576687582}. Best is trial 61 with value: 0.8581420765027323.\n"
     ]
    }
   ],
   "source": [
    "study = optuna.create_study(direction=\"maximize\")\n",
    "study.optimize(objective, n_trials=100)"
   ]
  },
  {
   "cell_type": "code",
   "execution_count": 10,
   "metadata": {},
   "outputs": [
    {
     "name": "stdout",
     "output_type": "stream",
     "text": [
      "Best parameters: {'iterations': 540, 'depth': 7, 'learning_rate': 0.04200623759811386, 'l2_leaf_reg': 0.028278249345751846, 'border_count': 90, 'bagging_temperature': 0.34945523906714304, 'random_strength': 7.170576274930001}\n",
      "Best CV accuracy: 0.8581420765027323\n"
     ]
    }
   ],
   "source": [
    "print(\"Best parameters:\", study.best_params)\n",
    "print(\"Best CV accuracy:\", study.best_value)"
   ]
  },
  {
   "cell_type": "code",
   "execution_count": 11,
   "metadata": {},
   "outputs": [
    {
     "data": {
      "text/plain": [
       "<catboost.core.CatBoostClassifier at 0x15690ac00>"
      ]
     },
     "execution_count": 11,
     "metadata": {},
     "output_type": "execute_result"
    }
   ],
   "source": [
    "best_params = study.best_params\n",
    "best_params[\"verbose\"] = 0\n",
    "final_model = CatBoostClassifier(**best_params)\n",
    "final_model.fit(X, y)"
   ]
  }
 ],
 "metadata": {
  "kernelspec": {
   "display_name": "Python (venv)",
   "language": "python",
   "name": "venv"
  },
  "language_info": {
   "codemirror_mode": {
    "name": "ipython",
    "version": 3
   },
   "file_extension": ".py",
   "mimetype": "text/x-python",
   "name": "python",
   "nbconvert_exporter": "python",
   "pygments_lexer": "ipython3",
   "version": "3.12.2"
  }
 },
 "nbformat": 4,
 "nbformat_minor": 2
}
